{
  "nbformat": 4,
  "nbformat_minor": 0,
  "metadata": {
    "colab": {
      "provenance": [],
      "gpuType": "T4",
      "authorship_tag": "ABX9TyMD8wLapP2lkoxy64ABdBMg",
      "include_colab_link": true
    },
    "kernelspec": {
      "name": "python3",
      "display_name": "Python 3"
    },
    "language_info": {
      "name": "python"
    },
    "accelerator": "GPU"
  },
  "cells": [
    {
      "cell_type": "markdown",
      "metadata": {
        "id": "view-in-github",
        "colab_type": "text"
      },
      "source": [
        "<a href=\"https://colab.research.google.com/github/hsudhakaran/test_jax/blob/main/Jax_tests.ipynb\" target=\"_parent\"><img src=\"https://colab.research.google.com/assets/colab-badge.svg\" alt=\"Open In Colab\"/></a>"
      ]
    },
    {
      "cell_type": "code",
      "execution_count": null,
      "metadata": {
        "id": "zGUy2-YMwFnn"
      },
      "outputs": [],
      "source": [
        "import jax.numpy as jnp\n",
        "import jax"
      ]
    },
    {
      "cell_type": "code",
      "source": [
        "def f(x):\n",
        "    return 4*x**3 + 3*x**2 + 2*x + 1\n",
        "jax.make_jaxpr(f)(2.0)"
      ],
      "metadata": {
        "colab": {
          "base_uri": "https://localhost:8080/"
        },
        "id": "4CpLZE7GwQjn",
        "outputId": "62507d60-749c-40d2-bcf8-ccc5670378a8"
      },
      "execution_count": null,
      "outputs": [
        {
          "output_type": "execute_result",
          "data": {
            "text/plain": [
              "{ lambda ; a:f32[]. let\n",
              "    b:f32[] = integer_pow[y=3] a\n",
              "    c:f32[] = mul 4.0 b\n",
              "    d:f32[] = integer_pow[y=2] a\n",
              "    e:f32[] = mul 3.0 d\n",
              "    f:f32[] = add c e\n",
              "    g:f32[] = mul 2.0 a\n",
              "    h:f32[] = add f g\n",
              "    i:f32[] = add h 1.0\n",
              "  in (i,) }"
            ]
          },
          "metadata": {},
          "execution_count": 2
        }
      ]
    },
    {
      "cell_type": "code",
      "source": [
        "grad_f = jax.grad(f)\n",
        "jax.make_jaxpr(grad_f)(2.0)"
      ],
      "metadata": {
        "colab": {
          "base_uri": "https://localhost:8080/"
        },
        "id": "TTXOJhgOwb_9",
        "outputId": "b64e994e-dc56-4313-cb75-cbc8de95bb48"
      },
      "execution_count": null,
      "outputs": [
        {
          "output_type": "execute_result",
          "data": {
            "text/plain": [
              "{ lambda ; a:f32[]. let\n",
              "    b:f32[] = integer_pow[y=3] a\n",
              "    c:f32[] = integer_pow[y=2] a\n",
              "    d:f32[] = mul 3.0 c\n",
              "    e:f32[] = mul 4.0 b\n",
              "    f:f32[] = integer_pow[y=2] a\n",
              "    g:f32[] = integer_pow[y=1] a\n",
              "    h:f32[] = mul 2.0 g\n",
              "    i:f32[] = mul 3.0 f\n",
              "    j:f32[] = add e i\n",
              "    k:f32[] = mul 2.0 a\n",
              "    l:f32[] = add j k\n",
              "    _:f32[] = add l 1.0\n",
              "    m:f32[] = mul 2.0 1.0\n",
              "    n:f32[] = mul 3.0 1.0\n",
              "    o:f32[] = mul n h\n",
              "    p:f32[] = add_any m o\n",
              "    q:f32[] = mul 4.0 1.0\n",
              "    r:f32[] = mul q d\n",
              "    s:f32[] = add_any p r\n",
              "  in (s,) }"
            ]
          },
          "metadata": {},
          "execution_count": 3
        }
      ]
    },
    {
      "cell_type": "code",
      "source": [
        "jax.grad(f)(2.0)"
      ],
      "metadata": {
        "colab": {
          "base_uri": "https://localhost:8080/"
        },
        "id": "uLycId1S7Otb",
        "outputId": "6b095e14-f8cb-4cfe-871c-fd7246c6b6a1"
      },
      "execution_count": null,
      "outputs": [
        {
          "output_type": "execute_result",
          "data": {
            "text/plain": [
              "Array(62., dtype=float32, weak_type=True)"
            ]
          },
          "metadata": {},
          "execution_count": 4
        }
      ]
    },
    {
      "cell_type": "code",
      "source": [
        "def matrix_mul(a, b):\n",
        "    return jnp.matmul(a, b)\n",
        "key = jax.random.PRNGKey(42)\n",
        "a = jax.random.normal(key, shape=(1000, 5000))\n",
        "b = jax.random.normal(key, shape=(5000, 1000))\n",
        "jax.make_jaxpr(matrix_mul)(a, b)"
      ],
      "metadata": {
        "colab": {
          "base_uri": "https://localhost:8080/"
        },
        "id": "x-o-HJJN7T1r",
        "outputId": "956e33d5-b1a4-4249-c676-d118e24c1964"
      },
      "execution_count": null,
      "outputs": [
        {
          "output_type": "execute_result",
          "data": {
            "text/plain": [
              "{ lambda ; a:f32[1000,5000] b:f32[5000,1000]. let\n",
              "    c:f32[1000,1000] = dot_general[\n",
              "      dimension_numbers=(([1], [0]), ([], []))\n",
              "      preferred_element_type=float32\n",
              "    ] a b\n",
              "  in (c,) }"
            ]
          },
          "metadata": {},
          "execution_count": 5
        }
      ]
    },
    {
      "cell_type": "code",
      "source": [
        "# Normal computation\n",
        "%timeit -n5 matrix_mul(a, b).block_until_ready()"
      ],
      "metadata": {
        "colab": {
          "base_uri": "https://localhost:8080/"
        },
        "id": "BINBqQhj2qDx",
        "outputId": "c64fab2f-a964-4bc5-81a6-ea396e1cb827"
      },
      "execution_count": null,
      "outputs": [
        {
          "output_type": "stream",
          "name": "stdout",
          "text": [
            "The slowest run took 31.46 times longer than the fastest. This could mean that an intermediate result is being cached.\n",
            "14.6 ms ± 27.5 ms per loop (mean ± std. dev. of 7 runs, 5 loops each)\n"
          ]
        }
      ]
    },
    {
      "cell_type": "code",
      "source": [
        "jit_matrix_mul = jax.jit(matrix_mul)\n",
        "jax.make_jaxpr(jit_matrix_mul)(a, b)"
      ],
      "metadata": {
        "colab": {
          "base_uri": "https://localhost:8080/"
        },
        "id": "7kp0AJlH230w",
        "outputId": "df3b2e89-baad-4a2f-a07e-f88561f12579"
      },
      "execution_count": null,
      "outputs": [
        {
          "output_type": "execute_result",
          "data": {
            "text/plain": [
              "{ lambda ; a:f32[1000,5000] b:f32[5000,1000]. let\n",
              "    c:f32[1000,1000] = pjit[\n",
              "      jaxpr={ lambda ; d:f32[1000,5000] e:f32[5000,1000]. let\n",
              "          f:f32[1000,1000] = dot_general[\n",
              "            dimension_numbers=(([1], [0]), ([], []))\n",
              "            preferred_element_type=float32\n",
              "          ] d e\n",
              "        in (f,) }\n",
              "      name=matrix_mul\n",
              "    ] a b\n",
              "  in (c,) }"
            ]
          },
          "metadata": {},
          "execution_count": 7
        }
      ]
    },
    {
      "cell_type": "code",
      "source": [
        "# warmup\n",
        "warmup_results = jit_matrix_mul(a, b)\n",
        "# ⚡️ speed em up!\n",
        "%timeit -n5 jit_matrix_mul(a, b).block_until_ready()"
      ],
      "metadata": {
        "colab": {
          "base_uri": "https://localhost:8080/"
        },
        "id": "9yQYytIN29x-",
        "outputId": "90617a98-2e77-4fb8-e56e-ef7ae69d5675"
      },
      "execution_count": null,
      "outputs": [
        {
          "output_type": "stream",
          "name": "stdout",
          "text": [
            "2.3 ms ± 220 µs per loop (mean ± std. dev. of 7 runs, 5 loops each)\n"
          ]
        }
      ]
    },
    {
      "cell_type": "code",
      "source": [
        "def f_def(x):\n",
        "    return x*x\n",
        "\n",
        "g_def = jax.vmap(f_def)\n",
        "x_test = jnp.array([2,4,6])\n",
        "%timeit -n5 g_def(a).block_until_ready()\n",
        "jitted_g = jax.jit(g_def)\n",
        "jitted_g(b)\n",
        "%timeit -n5 jitted_g(a).block_until_ready()"
      ],
      "metadata": {
        "colab": {
          "base_uri": "https://localhost:8080/"
        },
        "id": "WGIR-WwG3Ikt",
        "outputId": "a56e2a3a-fb2e-4a40-9895-9bac5fe54adf"
      },
      "execution_count": null,
      "outputs": [
        {
          "output_type": "stream",
          "name": "stdout",
          "text": [
            "1.32 ms ± 166 µs per loop (mean ± std. dev. of 7 runs, 5 loops each)\n",
            "The slowest run took 22.53 times longer than the fastest. This could mean that an intermediate result is being cached.\n",
            "1.27 ms ± 2.34 ms per loop (mean ± std. dev. of 7 runs, 5 loops each)\n"
          ]
        }
      ]
    },
    {
      "cell_type": "code",
      "source": [
        "import jax.tools.colab_tpu\n",
        "jax.tools.colab_tpu.setup_tpu()\n",
        "import jax\n",
        "jax.devices()"
      ],
      "metadata": {
        "colab": {
          "base_uri": "https://localhost:8080/",
          "height": 574
        },
        "id": "QMD-T5SK5U8P",
        "outputId": "35733f23-13a2-40c7-e745-bb04ff969e9d"
      },
      "execution_count": null,
      "outputs": [
        {
          "output_type": "error",
          "ename": "RuntimeError",
          "evalue": "ignored",
          "traceback": [
            "\u001b[0;31m---------------------------------------------------------------------------\u001b[0m",
            "\u001b[0;31mRuntimeError\u001b[0m                              Traceback (most recent call last)",
            "\u001b[0;32m<ipython-input-19-83fcc968d742>\u001b[0m in \u001b[0;36m<cell line: 2>\u001b[0;34m()\u001b[0m\n\u001b[1;32m      1\u001b[0m \u001b[0;32mimport\u001b[0m \u001b[0mjax\u001b[0m\u001b[0;34m.\u001b[0m\u001b[0mtools\u001b[0m\u001b[0;34m.\u001b[0m\u001b[0mcolab_tpu\u001b[0m\u001b[0;34m\u001b[0m\u001b[0;34m\u001b[0m\u001b[0m\n\u001b[0;32m----> 2\u001b[0;31m \u001b[0mjax\u001b[0m\u001b[0;34m.\u001b[0m\u001b[0mtools\u001b[0m\u001b[0;34m.\u001b[0m\u001b[0mcolab_tpu\u001b[0m\u001b[0;34m.\u001b[0m\u001b[0msetup_tpu\u001b[0m\u001b[0;34m(\u001b[0m\u001b[0;34m)\u001b[0m\u001b[0;34m\u001b[0m\u001b[0;34m\u001b[0m\u001b[0m\n\u001b[0m\u001b[1;32m      3\u001b[0m \u001b[0;32mimport\u001b[0m \u001b[0mjax\u001b[0m\u001b[0;34m\u001b[0m\u001b[0;34m\u001b[0m\u001b[0m\n\u001b[1;32m      4\u001b[0m \u001b[0mjax\u001b[0m\u001b[0;34m.\u001b[0m\u001b[0mdevices\u001b[0m\u001b[0;34m(\u001b[0m\u001b[0;34m)\u001b[0m\u001b[0;34m\u001b[0m\u001b[0;34m\u001b[0m\u001b[0m\n",
            "\u001b[0;32m/usr/local/lib/python3.10/dist-packages/jax/tools/colab_tpu.py\u001b[0m in \u001b[0;36msetup_tpu\u001b[0;34m(tpu_driver_version)\u001b[0m\n\u001b[1;32m     37\u001b[0m \u001b[0;32mdef\u001b[0m \u001b[0msetup_tpu\u001b[0m\u001b[0;34m(\u001b[0m\u001b[0mtpu_driver_version\u001b[0m\u001b[0;34m=\u001b[0m\u001b[0;32mNone\u001b[0m\u001b[0;34m)\u001b[0m\u001b[0;34m:\u001b[0m\u001b[0;34m\u001b[0m\u001b[0;34m\u001b[0m\u001b[0m\n\u001b[1;32m     38\u001b[0m   \u001b[0;34m\"\"\"Returns an error. Do not use.\"\"\"\u001b[0m\u001b[0;34m\u001b[0m\u001b[0;34m\u001b[0m\u001b[0m\n\u001b[0;32m---> 39\u001b[0;31m   \u001b[0;32mraise\u001b[0m \u001b[0mRuntimeError\u001b[0m\u001b[0;34m(\u001b[0m\u001b[0mtextwrap\u001b[0m\u001b[0;34m.\u001b[0m\u001b[0mdedent\u001b[0m\u001b[0;34m(\u001b[0m\u001b[0mmessage\u001b[0m\u001b[0;34m)\u001b[0m\u001b[0;34m)\u001b[0m\u001b[0;34m\u001b[0m\u001b[0;34m\u001b[0m\u001b[0m\n\u001b[0m",
            "\u001b[0;31mRuntimeError\u001b[0m: \nAs of JAX 0.4.0, JAX only supports TPU VMs, not the older Colab TPUs.\n\nWe recommend trying Kaggle Notebooks\n(https://www.kaggle.com/code, click on \"New Notebook\" near the top) which offer\nTPU VMs. You have to create an account, log in, and verify your account to get\naccelerator support.\nOnce you do that, there's a new \"TPU 1VM v3-8\" accelerator option. This gives\nyou a TPU notebook environment similar to Colab, but using the newer TPU VM\narchitecture. This should be a less buggy, more performant, and overall better\nexperience than the older TPU node architecture.\n\nIt is also possible to use Colab together with a self-hosted Jupyter kernel\nrunning on a Cloud TPU VM. See\nhttps://research.google.com/colaboratory/local-runtimes.html\nfor details.\n"
          ]
        }
      ]
    },
    {
      "cell_type": "code",
      "source": [],
      "metadata": {
        "id": "AT9ZDLa0-SiW"
      },
      "execution_count": null,
      "outputs": []
    }
  ]
}